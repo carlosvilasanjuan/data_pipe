{
 "cells": [
  {
   "cell_type": "code",
   "execution_count": 1,
   "metadata": {},
   "outputs": [
    {
     "name": "stdout",
     "output_type": "stream",
     "text": [
      "/home/linuxbrew/.linuxbrew/opt/python@3.8/lib/python3.8/site-packages/pip/_internal/commands/install.py:243: UserWarning: Disabling all use of wheels due to the use of --build-option / --global-option / --install-option.\n",
      "  cmdoptions.check_install_build_global(options)\n",
      "Requirement already satisfied: chromedriver_installer in /home/linuxbrew/.linuxbrew/lib/python3.8/site-packages (0.0.6)\n"
     ]
    }
   ],
   "source": [
    "!pip3 install chromedriver_installer \\\n",
    "    --install-option=\"--chromedriver-version=2.10\" \\\n",
    "    --install-option=\"--chromedriver-checksums=4fecc99b066cb1a346035bf022607104,058cd8b7b4b9688507701b5e648fd821\"\n",
    "import pandas as pd\n",
    "import re\n",
    "import json\n",
    "import requests\n",
    "from bs4 import BeautifulSoup\n",
    "from selenium import webdriver\n",
    "import pandas as pd"
   ]
  },
  {
   "cell_type": "code",
   "execution_count": 2,
   "metadata": {},
   "outputs": [],
   "source": [
    "gold = pd.read_csv('C_20201107_xauusd_price.csv')\n",
    "gold['date'] = pd.to_datetime(gold['date'])"
   ]
  },
  {
   "cell_type": "markdown",
   "metadata": {},
   "source": []
  },
  {
   "cell_type": "markdown",
   "metadata": {},
   "source": [
    "### Getting USD Liquidity data from the FED"
   ]
  },
  {
   "cell_type": "markdown",
   "metadata": {},
   "source": [
    "## M1 (USD B)"
   ]
  },
  {
   "cell_type": "code",
   "execution_count": 3,
   "metadata": {},
   "outputs": [],
   "source": [
    "# Downloading M1 Data in json format\n",
    "series_id = 'M1'\n",
    "api_url =  f'https://api.stlouisfed.org/fred/series/observations?series_id={series_id}&api_key=1c3477ff38d635714ac6c42a9f9f8e3d&file_type=json'\n",
    "m1 = requests.get(api_url)\n",
    "m1_data = m1.json()\n",
    "\n",
    "# Cleaning the data\n",
    "\n",
    "df_m1 = pd.DataFrame(m1_data['observations'])\n",
    "df_m1 = df_m1.drop(columns = ['realtime_start', 'realtime_end'])\n",
    "df_m1['date'] = pd.to_datetime(df_m1['date'])\n",
    "df_m1['value'] = df_m1['value'].astype(float)\n",
    "df_m1.rename(columns={'value':'M1 USD (B)'}, inplace = True)\n",
    "df_m1.index = df_m1.date"
   ]
  },
  {
   "cell_type": "markdown",
   "metadata": {},
   "source": [
    "##  M2  (USD B)"
   ]
  },
  {
   "cell_type": "code",
   "execution_count": 4,
   "metadata": {},
   "outputs": [
    {
     "data": {
      "text/plain": [
       "pandas._libs.tslibs.timestamps.Timestamp"
      ]
     },
     "execution_count": 4,
     "metadata": {},
     "output_type": "execute_result"
    }
   ],
   "source": [
    "# Downloading M2 Data in json format\n",
    "\n",
    "series_id = 'M2'\n",
    "api_url =  f'https://api.stlouisfed.org/fred/series/observations?series_id={series_id}&api_key=1c3477ff38d635714ac6c42a9f9f8e3d&file_type=json'\n",
    "m2 = requests.get(api_url)\n",
    "m2_data = m2.json()\n",
    "\n",
    "# Cleaning the data\n",
    "\n",
    "df_m2 = pd.DataFrame(m2_data['observations'])\n",
    "df_m2 = df_m2 = df_m2.drop(columns = ['realtime_start', 'realtime_end'])\n",
    "df_m2['date'] = pd.to_datetime(df_m2['date'])\n",
    "df_m2['value'] = df_m2['value'].astype(float)\n",
    "df_m2.rename(columns={'value':'M2 USD (B)'}, inplace = True)\n",
    "df_m2.index = df_m2.date\n",
    "type(df_m2['date'][1])"
   ]
  },
  {
   "cell_type": "markdown",
   "metadata": {},
   "source": [
    "## Merging the DataFrames"
   ]
  },
  {
   "cell_type": "code",
   "execution_count": 5,
   "metadata": {},
   "outputs": [
    {
     "data": {
      "text/html": [
       "<div>\n",
       "<style scoped>\n",
       "    .dataframe tbody tr th:only-of-type {\n",
       "        vertical-align: middle;\n",
       "    }\n",
       "\n",
       "    .dataframe tbody tr th {\n",
       "        vertical-align: top;\n",
       "    }\n",
       "\n",
       "    .dataframe thead th {\n",
       "        text-align: right;\n",
       "    }\n",
       "</style>\n",
       "<table border=\"1\" class=\"dataframe\">\n",
       "  <thead>\n",
       "    <tr style=\"text-align: right;\">\n",
       "      <th></th>\n",
       "      <th>key_0</th>\n",
       "      <th>date_x</th>\n",
       "      <th>M1 USD (B)</th>\n",
       "      <th>date_y</th>\n",
       "      <th>M2 USD (B)</th>\n",
       "    </tr>\n",
       "  </thead>\n",
       "  <tbody>\n",
       "    <tr>\n",
       "      <th>0</th>\n",
       "      <td>1980-11-03</td>\n",
       "      <td>1980-11-03</td>\n",
       "      <td>409.2</td>\n",
       "      <td>1980-11-03</td>\n",
       "      <td>1591.4</td>\n",
       "    </tr>\n",
       "    <tr>\n",
       "      <th>1</th>\n",
       "      <td>1980-11-10</td>\n",
       "      <td>1980-11-10</td>\n",
       "      <td>410.4</td>\n",
       "      <td>1980-11-10</td>\n",
       "      <td>1592.9</td>\n",
       "    </tr>\n",
       "    <tr>\n",
       "      <th>2</th>\n",
       "      <td>1980-11-17</td>\n",
       "      <td>1980-11-17</td>\n",
       "      <td>411.3</td>\n",
       "      <td>1980-11-17</td>\n",
       "      <td>1596.3</td>\n",
       "    </tr>\n",
       "    <tr>\n",
       "      <th>3</th>\n",
       "      <td>1980-11-24</td>\n",
       "      <td>1980-11-24</td>\n",
       "      <td>410.8</td>\n",
       "      <td>1980-11-24</td>\n",
       "      <td>1597.2</td>\n",
       "    </tr>\n",
       "    <tr>\n",
       "      <th>4</th>\n",
       "      <td>1980-12-01</td>\n",
       "      <td>1980-12-01</td>\n",
       "      <td>410.5</td>\n",
       "      <td>1980-12-01</td>\n",
       "      <td>1596.1</td>\n",
       "    </tr>\n",
       "    <tr>\n",
       "      <th>...</th>\n",
       "      <td>...</td>\n",
       "      <td>...</td>\n",
       "      <td>...</td>\n",
       "      <td>...</td>\n",
       "      <td>...</td>\n",
       "    </tr>\n",
       "    <tr>\n",
       "      <th>2082</th>\n",
       "      <td>2020-09-28</td>\n",
       "      <td>2020-09-28</td>\n",
       "      <td>5500.2</td>\n",
       "      <td>2020-09-28</td>\n",
       "      <td>18643.3</td>\n",
       "    </tr>\n",
       "    <tr>\n",
       "      <th>2083</th>\n",
       "      <td>2020-10-05</td>\n",
       "      <td>2020-10-05</td>\n",
       "      <td>5507.7</td>\n",
       "      <td>2020-10-05</td>\n",
       "      <td>18689.1</td>\n",
       "    </tr>\n",
       "    <tr>\n",
       "      <th>2084</th>\n",
       "      <td>2020-10-12</td>\n",
       "      <td>2020-10-12</td>\n",
       "      <td>5603.9</td>\n",
       "      <td>2020-10-12</td>\n",
       "      <td>18795.6</td>\n",
       "    </tr>\n",
       "    <tr>\n",
       "      <th>2085</th>\n",
       "      <td>2020-10-19</td>\n",
       "      <td>2020-10-19</td>\n",
       "      <td>5545.7</td>\n",
       "      <td>2020-10-19</td>\n",
       "      <td>18815.3</td>\n",
       "    </tr>\n",
       "    <tr>\n",
       "      <th>2086</th>\n",
       "      <td>2020-10-26</td>\n",
       "      <td>2020-10-26</td>\n",
       "      <td>5580.6</td>\n",
       "      <td>2020-10-26</td>\n",
       "      <td>18838.6</td>\n",
       "    </tr>\n",
       "  </tbody>\n",
       "</table>\n",
       "<p>2087 rows × 5 columns</p>\n",
       "</div>"
      ],
      "text/plain": [
       "          key_0     date_x  M1 USD (B)     date_y  M2 USD (B)\n",
       "0    1980-11-03 1980-11-03       409.2 1980-11-03      1591.4\n",
       "1    1980-11-10 1980-11-10       410.4 1980-11-10      1592.9\n",
       "2    1980-11-17 1980-11-17       411.3 1980-11-17      1596.3\n",
       "3    1980-11-24 1980-11-24       410.8 1980-11-24      1597.2\n",
       "4    1980-12-01 1980-12-01       410.5 1980-12-01      1596.1\n",
       "...         ...        ...         ...        ...         ...\n",
       "2082 2020-09-28 2020-09-28      5500.2 2020-09-28     18643.3\n",
       "2083 2020-10-05 2020-10-05      5507.7 2020-10-05     18689.1\n",
       "2084 2020-10-12 2020-10-12      5603.9 2020-10-12     18795.6\n",
       "2085 2020-10-19 2020-10-19      5545.7 2020-10-19     18815.3\n",
       "2086 2020-10-26 2020-10-26      5580.6 2020-10-26     18838.6\n",
       "\n",
       "[2087 rows x 5 columns]"
      ]
     },
     "execution_count": 5,
     "metadata": {},
     "output_type": "execute_result"
    }
   ],
   "source": [
    "m1_m2 = df_m1.merge(df_m2, how='inner', left_on=df_m1['date'], right_on=df_m2['date'])\n",
    "m1_m2"
   ]
  },
  {
   "cell_type": "code",
   "execution_count": 6,
   "metadata": {},
   "outputs": [],
   "source": [
    "m1_m2 = m1_m2.drop(columns = ['key_0','date_y'])\n",
    "gold_m = gold.merge( m1_m2, how='inner', left_on=gold['date'], right_on=m1_m2['date_x'])"
   ]
  },
  {
   "cell_type": "code",
   "execution_count": 7,
   "metadata": {},
   "outputs": [],
   "source": [
    "gold_m = gold_m.drop(columns =['key_0','date_x'])"
   ]
  },
  {
   "cell_type": "code",
   "execution_count": 8,
   "metadata": {},
   "outputs": [],
   "source": [
    "gold_m.to_csv('E_20201109_xauusd_price.csv')"
   ]
  }
 ],
 "metadata": {
  "kernelspec": {
   "display_name": "Python 3",
   "language": "python",
   "name": "python3"
  },
  "language_info": {
   "codemirror_mode": {
    "name": "ipython",
    "version": 3
   },
   "file_extension": ".py",
   "mimetype": "text/x-python",
   "name": "python",
   "nbconvert_exporter": "python",
   "pygments_lexer": "ipython3",
   "version": "3.8.5"
  }
 },
 "nbformat": 4,
 "nbformat_minor": 4
}
